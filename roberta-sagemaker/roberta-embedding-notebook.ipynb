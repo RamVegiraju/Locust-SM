{
 "cells": [
  {
   "cell_type": "code",
   "execution_count": 3,
   "id": "d010dd7a",
   "metadata": {},
   "outputs": [],
   "source": [
    "#!pip install transformers==3.0.2 essential_generators"
   ]
  },
  {
   "cell_type": "markdown",
   "id": "0e467307",
   "metadata": {},
   "source": [
    "# Test sentence embedding with local deployment of \"Roberta-base\" model"
   ]
  },
  {
   "cell_type": "code",
   "execution_count": 11,
   "id": "51c0ca5d",
   "metadata": {},
   "outputs": [
    {
     "name": "stdout",
     "output_type": "stream",
     "text": [
      "CPU times: user 713 ms, sys: 35.9 ms, total: 749 ms\n",
      "Wall time: 1.01 s\n"
     ]
    }
   ],
   "source": [
    "%%time\n",
    "\n",
    "import json\n",
    "import torch\n",
    "from torch import nn\n",
    "# Roberta Model and Tokenizer\n",
    "from transformers import RobertaModel, RobertaTokenizer, AutoTokenizer, BertModel\n",
    "import os\n",
    "import pickle"
   ]
  },
  {
   "cell_type": "code",
   "execution_count": 12,
   "id": "1020438b",
   "metadata": {},
   "outputs": [
    {
     "name": "stdout",
     "output_type": "stream",
     "text": [
      "CPU times: user 4.4 s, sys: 667 ms, total: 5.06 s\n",
      "Wall time: 8.42 s\n"
     ]
    }
   ],
   "source": [
    "%%time\n",
    "\n",
    "# Initialize tokenizer and model from HuggingFaces\n",
    "JSON_CONTENT_TYPE = 'application/json'\n",
    "PRE_TRAINED_MODEL_NAME = 'roberta-base'\n",
    "# CLASS_NAMES = ['negative', 'neutral', 'positive']\n",
    "tokenizer = RobertaTokenizer.from_pretrained(PRE_TRAINED_MODEL_NAME)\n",
    "model = RobertaModel.from_pretrained(PRE_TRAINED_MODEL_NAME)\n",
    "MAX_LEN = 160"
   ]
  },
  {
   "cell_type": "code",
   "execution_count": 13,
   "id": "28b843d1",
   "metadata": {},
   "outputs": [
    {
     "name": "stdout",
     "output_type": "stream",
     "text": [
      "AWS is excited to announce that TorchServe is natively supported in Amazon SageMaker as the default model server for PyTorch inference\n",
      "CPU times: user 76 µs, sys: 0 ns, total: 76 µs\n",
      "Wall time: 80.6 µs\n"
     ]
    }
   ],
   "source": [
    "%%time\n",
    "\n",
    "test_data = {\"text\": \"AWS is excited to announce that TorchServe is natively supported in Amazon SageMaker as the default model server for PyTorch inference\"}\n",
    "review_text = test_data['text']\n",
    "print(review_text)"
   ]
  },
  {
   "cell_type": "code",
   "execution_count": 14,
   "id": "8ca9c771",
   "metadata": {},
   "outputs": [
    {
     "name": "stdout",
     "output_type": "stream",
     "text": [
      "CPU times: user 2.65 ms, sys: 0 ns, total: 2.65 ms\n",
      "Wall time: 3.88 ms\n"
     ]
    }
   ],
   "source": [
    "%%time\n",
    "\n",
    "encoded_review = tokenizer.encode_plus(\n",
    "                                        review_text,\n",
    "                                        max_length=MAX_LEN,\n",
    "                                        add_special_tokens=True,\n",
    "                                        return_token_type_ids=False,\n",
    "                                        padding=True,\n",
    "                                        return_attention_mask=True,\n",
    "                                        return_tensors='pt',\n",
    "                                        )\n",
    "\n",
    "input_ids = encoded_review['input_ids']\n",
    "attention_mask = encoded_review['attention_mask']"
   ]
  },
  {
   "cell_type": "code",
   "execution_count": 15,
   "id": "4d2ce77f",
   "metadata": {},
   "outputs": [
    {
     "name": "stdout",
     "output_type": "stream",
     "text": [
      "CPU times: user 156 ms, sys: 7.86 ms, total: 164 ms\n",
      "Wall time: 328 ms\n"
     ]
    }
   ],
   "source": [
    "%%time\n",
    "\n",
    "output = model(input_ids, attention_mask)\n",
    "\n",
    "embedding = pickle.dumps(output)\n",
    "decoded_embedding = pickle.loads(embedding)\n",
    "\n",
    "#print(embedding)"
   ]
  },
  {
   "cell_type": "markdown",
   "id": "74056084",
   "metadata": {},
   "source": [
    "## Save HuggingFaces model and tokenizer assets into local directory"
   ]
  },
  {
   "cell_type": "code",
   "execution_count": 7,
   "id": "fda523b9",
   "metadata": {},
   "outputs": [],
   "source": [
    "%%bash\n",
    "if [ -d \"local_model_directory\" ]; then\n",
    "    rm -f local_model_directory/*    \n",
    "else\n",
    "    mkdir local_model_directory\n",
    "fi"
   ]
  },
  {
   "cell_type": "code",
   "execution_count": 8,
   "id": "efd9fdb5",
   "metadata": {},
   "outputs": [],
   "source": [
    "import os.path\n",
    "\n",
    "local_model_path_var = os.path.join('./', 'local_model_directory')\n",
    "\n",
    "tokenizer.save_pretrained(local_model_path_var)\n",
    "model.save_pretrained(local_model_path_var)"
   ]
  },
  {
   "cell_type": "code",
   "execution_count": 9,
   "id": "c6b79cc7",
   "metadata": {},
   "outputs": [
    {
     "name": "stdout",
     "output_type": "stream",
     "text": [
      "total 477M\n",
      "drwxrwxr-x 2 ec2-user ec2-user 4.0K Jul  6 18:25 .\n",
      "drwxrwxr-x 5 ec2-user ec2-user 4.0K Jul  6 18:25 ..\n",
      "-rw-rw-r-- 1 ec2-user ec2-user  510 Jul  6 18:25 config.json\n",
      "-rw-rw-r-- 1 ec2-user ec2-user 446K Jul  6 18:25 merges.txt\n",
      "-rw-rw-r-- 1 ec2-user ec2-user 476M Jul  6 18:25 pytorch_model.bin\n",
      "-rw-rw-r-- 1 ec2-user ec2-user  772 Jul  6 18:25 special_tokens_map.json\n",
      "-rw-rw-r-- 1 ec2-user ec2-user   25 Jul  6 18:25 tokenizer_config.json\n",
      "-rw-rw-r-- 1 ec2-user ec2-user 878K Jul  6 18:25 vocab.json\n"
     ]
    }
   ],
   "source": [
    "!ls -alh {local_model_path_var}"
   ]
  },
  {
   "cell_type": "code",
   "execution_count": 27,
   "id": "ae4930fb",
   "metadata": {},
   "outputs": [],
   "source": [
    "s3_bucket = \"eks-sagemaker-us-east-1-bucket-mars\""
   ]
  },
  {
   "cell_type": "code",
   "execution_count": 30,
   "id": "92715a70",
   "metadata": {},
   "outputs": [
    {
     "name": "stdout",
     "output_type": "stream",
     "text": [
      "config.json\n",
      "merges.txt\n",
      "pytorch_model.bin\n",
      "special_tokens_map.json\n",
      "tokenizer_config.json\n",
      "vocab.json\n"
     ]
    }
   ],
   "source": [
    "%%bash\n",
    "(cd local_model_directory ; tar -czvf roberta-base.tar.gz *)"
   ]
  },
  {
   "cell_type": "code",
   "execution_count": 31,
   "id": "ff236124",
   "metadata": {},
   "outputs": [],
   "source": [
    "%%bash \n",
    "mv local_model_directory/roberta-base.tar.gz ."
   ]
  },
  {
   "cell_type": "code",
   "execution_count": 38,
   "id": "fe2a8564",
   "metadata": {},
   "outputs": [
    {
     "name": "stdout",
     "output_type": "stream",
     "text": [
      "upload: ./roberta-base.tar.gz to s3://eks-sagemaker-us-east-1-bucket-mars/roberta/roberta-base.tar.gz\n"
     ]
    }
   ],
   "source": [
    "%%bash\n",
    "aws s3 cp roberta-base.tar.gz s3://eks-sagemaker-us-east-1-bucket-mars/roberta/"
   ]
  },
  {
   "cell_type": "markdown",
   "id": "307585ef",
   "metadata": {},
   "source": [
    "# Create 3000 copies of roberta-base model"
   ]
  },
  {
   "cell_type": "code",
   "execution_count": null,
   "id": "24faf7e6",
   "metadata": {},
   "outputs": [],
   "source": [
    "%%sh\n",
    "\n",
    "#Replace S3 Bucket\n",
    "\n",
    "s3_bucket='eks-sagemaker-us-east-1-bucket-mars'\n",
    "\n",
    "for i in {0..2999}\n",
    "do\n",
    "  aws s3 cp roberta-base.tar.gz s3://$s3_bucket/roberta/roberta-base-$i.tar.gz \n",
    "done"
   ]
  },
  {
   "cell_type": "code",
   "execution_count": 33,
   "id": "ccde3e1b",
   "metadata": {},
   "outputs": [],
   "source": [
    "#Make sure all 3000 models loaded in bucket\n",
    "#!aws s3 ls s3://eks-sagemaker-us-east-1-bucket-mars/roberta/"
   ]
  },
  {
   "cell_type": "markdown",
   "id": "f03984a0",
   "metadata": {},
   "source": [
    "# SageMaker endpoint deployment"
   ]
  },
  {
   "cell_type": "code",
   "execution_count": 41,
   "id": "2263687f",
   "metadata": {},
   "outputs": [
    {
     "name": "stdout",
     "output_type": "stream",
     "text": [
      "Login Succeeded\n",
      "sha256:8aa678f5d3963a9930ead4b72e29cff8017da98a0034d96a9c609bb961bbfd3c\n",
      "The push refers to repository [474422712127.dkr.ecr.us-east-1.amazonaws.com/nlp-sagemaker-multimodel]\n",
      "af83b501136f: Preparing\n",
      "07f2b2f89807: Preparing\n",
      "1560f87c4e4a: Preparing\n",
      "71690dc33eea: Preparing\n",
      "604dc4e32a22: Preparing\n",
      "81c0c646deb8: Preparing\n",
      "fec20c668cb5: Preparing\n",
      "03d61bce70c7: Preparing\n",
      "f6aa281a2333: Preparing\n",
      "8f8f0266f834: Preparing\n",
      "81c0c646deb8: Waiting\n",
      "fec20c668cb5: Waiting\n",
      "03d61bce70c7: Waiting\n",
      "f6aa281a2333: Waiting\n",
      "8f8f0266f834: Waiting\n",
      "07f2b2f89807: Pushed\n",
      "af83b501136f: Pushed\n",
      "1560f87c4e4a: Pushed\n",
      "71690dc33eea: Pushed\n",
      "604dc4e32a22: Pushed\n",
      "fec20c668cb5: Pushed\n",
      "03d61bce70c7: Pushed\n",
      "8f8f0266f834: Pushed\n",
      "f6aa281a2333: Pushed\n",
      "81c0c646deb8: Pushed\n",
      "latest: digest: sha256:8f63f21da4d19ba50d6f21fc05a7a38d19ed30a1a11ab65883894c3f1e1b87d3 size: 2407\n"
     ]
    },
    {
     "name": "stderr",
     "output_type": "stream",
     "text": [
      "WARNING! Using --password via the CLI is insecure. Use --password-stdin.\n",
      "WARNING! Your password will be stored unencrypted in /home/ec2-user/.docker/config.json.\n",
      "Configure a credential helper to remove this warning. See\n",
      "https://docs.docker.com/engine/reference/commandline/login/#credentials-store\n",
      "\n"
     ]
    }
   ],
   "source": [
    "%%sh\n",
    "\n",
    "# The name of our algorithm\n",
    "algorithm_name=nlp-sagemaker-multimodel\n",
    "\n",
    "cd container\n",
    "\n",
    "account=$(aws sts get-caller-identity --query Account --output text)\n",
    "\n",
    "# Get the region defined in the current configuration (default to us-west-2 if none defined)\n",
    "region=$(aws configure get region)\n",
    "region=${region:-us-west-2}\n",
    "\n",
    "fullname=\"${account}.dkr.ecr.${region}.amazonaws.com/${algorithm_name}:latest\"\n",
    "\n",
    "# If the repository doesn't exist in ECR, create it.\n",
    "aws ecr describe-repositories --repository-names \"${algorithm_name}\" > /dev/null 2>&1\n",
    "\n",
    "if [ $? -ne 0 ]\n",
    "then\n",
    "    aws ecr create-repository --repository-name \"${algorithm_name}\" > /dev/null\n",
    "fi\n",
    "\n",
    "# Get the login command from ECR and execute it directly\n",
    "$(aws ecr get-login --region ${region} --no-include-email)\n",
    "\n",
    "# Build the docker image locally with the image name and then push it to ECR\n",
    "# with the full name.\n",
    "\n",
    "docker build -q -t ${algorithm_name} .\n",
    "docker tag ${algorithm_name} ${fullname}\n",
    "\n",
    "docker push ${fullname}"
   ]
  },
  {
   "cell_type": "code",
   "execution_count": 8,
   "id": "c8451fc6",
   "metadata": {},
   "outputs": [],
   "source": [
    "import boto3\n",
    "from sagemaker import get_execution_role\n",
    "\n",
    "sm_client = boto3.client(service_name='sagemaker')\n",
    "runtime_sm_client = boto3.client(service_name='sagemaker-runtime')\n",
    "\n",
    "account_id = boto3.client('sts').get_caller_identity()['Account']\n",
    "region = boto3.Session().region_name\n",
    "\n",
    "s3_bucket = 'eks-sagemaker-us-east-1-bucket-mars'\n",
    "\n",
    "role = get_execution_role()"
   ]
  },
  {
   "cell_type": "markdown",
   "id": "49e3d0ba",
   "metadata": {},
   "source": [
    "# Test out different instances here to create various endpoints"
   ]
  },
  {
   "cell_type": "markdown",
   "id": "c3b4acc5",
   "metadata": {},
   "source": [
    "## Instance Recommendations for Multi-Model Endpoint (MME)\n",
    "\n",
    "Link: https://docs.aws.amazon.com/sagemaker/latest/dg/multi-model-endpoints.html#multi-model-endpoint-instance"
   ]
  },
  {
   "cell_type": "markdown",
   "id": "3443fca4",
   "metadata": {},
   "source": [
    "## Instance: ml.c5d.18xlarge"
   ]
  },
  {
   "cell_type": "code",
   "execution_count": 9,
   "id": "ee9b1562",
   "metadata": {},
   "outputs": [
    {
     "name": "stdout",
     "output_type": "stream",
     "text": [
      "Model name: roberta-multimodel-2021-07-13-02-58-56\n",
      "Model data Url: s3://eks-sagemaker-us-east-1-bucket-mars/roberta/\n",
      "Container image: 474422712127.dkr.ecr.us-east-1.amazonaws.com/nlp-sagemaker-multimodel:latest\n",
      "Model Arn: arn:aws:sagemaker:us-east-1:474422712127:model/roberta-multimodel-2021-07-13-02-58-56\n"
     ]
    }
   ],
   "source": [
    "from time import gmtime, strftime\n",
    "\n",
    "model_name = 'roberta-multimodel-' + strftime(\"%Y-%m-%d-%H-%M-%S\", gmtime())\n",
    "model_url = 's3://{}/roberta/'.format(s3_bucket) ## MODEL S3 URL\n",
    "container = '{}.dkr.ecr.{}.amazonaws.com/nlp-sagemaker-multimodel:latest'.format(account_id, region)\n",
    "instance_type = 'ml.c5d.18xlarge'\n",
    "\n",
    "print('Model name: ' + model_name)\n",
    "print('Model data Url: ' + model_url)\n",
    "print('Container image: ' + container)\n",
    "\n",
    "container = {\n",
    "    'Image': container,\n",
    "    'ModelDataUrl': model_url,\n",
    "    'Mode': 'MultiModel'\n",
    "}\n",
    "\n",
    "create_model_response = sm_client.create_model(\n",
    "    ModelName = model_name,\n",
    "    ExecutionRoleArn = role,\n",
    "    Containers = [container])\n",
    "\n",
    "print(\"Model Arn: \" + create_model_response['ModelArn'])"
   ]
  },
  {
   "cell_type": "code",
   "execution_count": 10,
   "id": "a5812fb4",
   "metadata": {},
   "outputs": [
    {
     "name": "stdout",
     "output_type": "stream",
     "text": [
      "Endpoint config name: roberta-multimodel-config2021-07-13-02-59-00\n",
      "Endpoint config Arn: arn:aws:sagemaker:us-east-1:474422712127:endpoint-config/roberta-multimodel-config2021-07-13-02-59-00\n"
     ]
    }
   ],
   "source": [
    "endpoint_config_name = 'roberta-multimodel-config' + strftime(\"%Y-%m-%d-%H-%M-%S\", gmtime())\n",
    "print('Endpoint config name: ' + endpoint_config_name)\n",
    "\n",
    "create_endpoint_config_response = sm_client.create_endpoint_config(\n",
    "    EndpointConfigName = endpoint_config_name,\n",
    "    ProductionVariants=[{\n",
    "        'InstanceType': instance_type,\n",
    "        'InitialInstanceCount': 1,\n",
    "        'InitialVariantWeight': 1,\n",
    "        'ModelName': model_name,\n",
    "        'VariantName': 'AllTraffic'}])\n",
    "\n",
    "print(\"Endpoint config Arn: \" + create_endpoint_config_response['EndpointConfigArn'])"
   ]
  },
  {
   "cell_type": "code",
   "execution_count": 11,
   "id": "3ced4609",
   "metadata": {},
   "outputs": [
    {
     "name": "stdout",
     "output_type": "stream",
     "text": [
      "Endpoint name: roberta-multimodel-endpoint2021-07-13-02-59-06\n",
      "Endpoint Arn: arn:aws:sagemaker:us-east-1:474422712127:endpoint/roberta-multimodel-endpoint2021-07-13-02-59-06\n",
      "Endpoint Status: Creating\n",
      "Waiting for roberta-multimodel-endpoint2021-07-13-02-59-06 endpoint to be in service...\n",
      "CPU times: user 202 ms, sys: 10.3 ms, total: 212 ms\n",
      "Wall time: 7min 31s\n"
     ]
    }
   ],
   "source": [
    "%%time\n",
    "\n",
    "import time\n",
    "\n",
    "endpoint_name = 'roberta-multimodel-endpoint' + strftime(\"%Y-%m-%d-%H-%M-%S\", gmtime())\n",
    "print('Endpoint name: ' + endpoint_name)\n",
    "\n",
    "create_endpoint_response = sm_client.create_endpoint(\n",
    "    EndpointName=endpoint_name,\n",
    "    EndpointConfigName=endpoint_config_name)\n",
    "print('Endpoint Arn: ' + create_endpoint_response['EndpointArn'])\n",
    "\n",
    "resp = sm_client.describe_endpoint(EndpointName=endpoint_name)\n",
    "status = resp['EndpointStatus']\n",
    "print(\"Endpoint Status: \" + status)\n",
    "\n",
    "print('Waiting for {} endpoint to be in service...'.format(endpoint_name))\n",
    "waiter = sm_client.get_waiter('endpoint_in_service')\n",
    "waiter.wait(EndpointName=endpoint_name)"
   ]
  },
  {
   "cell_type": "markdown",
   "id": "76ddd86a",
   "metadata": {},
   "source": [
    "## Instance: ml.m5d.4xlarge"
   ]
  },
  {
   "cell_type": "code",
   "execution_count": 12,
   "id": "1ddd7d89",
   "metadata": {},
   "outputs": [
    {
     "name": "stdout",
     "output_type": "stream",
     "text": [
      "Model name: roberta-multimodel-2021-07-13-03-07-08\n",
      "Model data Url: s3://eks-sagemaker-us-east-1-bucket-mars/roberta/\n",
      "Container image: 474422712127.dkr.ecr.us-east-1.amazonaws.com/nlp-sagemaker-multimodel:latest\n",
      "Model Arn: arn:aws:sagemaker:us-east-1:474422712127:model/roberta-multimodel-2021-07-13-03-07-08\n"
     ]
    }
   ],
   "source": [
    "#Model Creation\n",
    "\n",
    "model_name = 'roberta-multimodel-' + strftime(\"%Y-%m-%d-%H-%M-%S\", gmtime())\n",
    "model_url = 's3://{}/roberta/'.format(s3_bucket) ## MODEL S3 URL\n",
    "container = '{}.dkr.ecr.{}.amazonaws.com/nlp-sagemaker-multimodel:latest'.format(account_id, region)\n",
    "\n",
    "#change instance type\n",
    "instance_type = 'ml.m5d.4xlarge'\n",
    "\n",
    "print('Model name: ' + model_name)\n",
    "print('Model data Url: ' + model_url)\n",
    "print('Container image: ' + container)\n",
    "\n",
    "container = {\n",
    "    'Image': container,\n",
    "    'ModelDataUrl': model_url,\n",
    "    'Mode': 'MultiModel'\n",
    "}\n",
    "\n",
    "create_model_response = sm_client.create_model(\n",
    "    ModelName = model_name,\n",
    "    ExecutionRoleArn = role,\n",
    "    Containers = [container])\n",
    "\n",
    "print(\"Model Arn: \" + create_model_response['ModelArn'])"
   ]
  },
  {
   "cell_type": "code",
   "execution_count": 13,
   "id": "eae3cf84",
   "metadata": {},
   "outputs": [
    {
     "name": "stdout",
     "output_type": "stream",
     "text": [
      "Endpoint config name: roberta-multimodel-config2021-07-13-03-07-13\n",
      "Endpoint config Arn: arn:aws:sagemaker:us-east-1:474422712127:endpoint-config/roberta-multimodel-config2021-07-13-03-07-13\n"
     ]
    }
   ],
   "source": [
    "#Endpoint Config Creation\n",
    "endpoint_config_name = 'roberta-multimodel-config' + strftime(\"%Y-%m-%d-%H-%M-%S\", gmtime())\n",
    "print('Endpoint config name: ' + endpoint_config_name)\n",
    "\n",
    "create_endpoint_config_response = sm_client.create_endpoint_config(\n",
    "    EndpointConfigName = endpoint_config_name,\n",
    "    ProductionVariants=[{\n",
    "        'InstanceType': instance_type,\n",
    "        'InitialInstanceCount': 1,\n",
    "        'InitialVariantWeight': 1,\n",
    "        'ModelName': model_name,\n",
    "        'VariantName': 'AllTraffic'}])\n",
    "\n",
    "print(\"Endpoint config Arn: \" + create_endpoint_config_response['EndpointConfigArn'])"
   ]
  },
  {
   "cell_type": "code",
   "execution_count": 14,
   "id": "7d87dd24",
   "metadata": {},
   "outputs": [
    {
     "name": "stdout",
     "output_type": "stream",
     "text": [
      "Endpoint name: roberta-multimodel-endpoint-INSTANCETWO2021-07-13-03-07-24\n",
      "Endpoint Arn: arn:aws:sagemaker:us-east-1:474422712127:endpoint/roberta-multimodel-endpoint-instancetwo2021-07-13-03-07-24\n",
      "Endpoint Status: Creating\n",
      "Waiting for roberta-multimodel-endpoint-INSTANCETWO2021-07-13-03-07-24 endpoint to be in service...\n",
      "CPU times: user 184 ms, sys: 5.45 ms, total: 189 ms\n",
      "Wall time: 6min 31s\n"
     ]
    }
   ],
   "source": [
    "%%time\n",
    "\n",
    "import time\n",
    "\n",
    "endpoint_two_name = 'roberta-multimodel-endpoint-INSTANCETWO' + strftime(\"%Y-%m-%d-%H-%M-%S\", gmtime())\n",
    "print('Endpoint name: ' + endpoint_two_name)\n",
    "\n",
    "create_endpoint_response = sm_client.create_endpoint(\n",
    "    EndpointName=endpoint_two_name,\n",
    "    EndpointConfigName=endpoint_config_name)\n",
    "print('Endpoint Arn: ' + create_endpoint_response['EndpointArn'])\n",
    "\n",
    "resp = sm_client.describe_endpoint(EndpointName=endpoint_two_name)\n",
    "status = resp['EndpointStatus']\n",
    "print(\"Endpoint Status: \" + status)\n",
    "\n",
    "print('Waiting for {} endpoint to be in service...'.format(endpoint_two_name))\n",
    "waiter = sm_client.get_waiter('endpoint_in_service')\n",
    "waiter.wait(EndpointName=endpoint_two_name)"
   ]
  },
  {
   "cell_type": "code",
   "execution_count": 65,
   "id": "b9b14084",
   "metadata": {},
   "outputs": [],
   "source": [
    "#Endpoints being tested\n",
    "endpoint_name = \"roberta-multimodel-endpoint2021-07-13-02-59-06\"\n",
    "endpoint_two_name = \"roberta-multimodel-endpoint-INSTANCETWO2021-07-13-03-07-24\""
   ]
  },
  {
   "cell_type": "markdown",
   "id": "04344bda",
   "metadata": {},
   "source": [
    "## Creating Test Data for Endpoint Inference"
   ]
  },
  {
   "cell_type": "code",
   "execution_count": 16,
   "id": "dc59e53d",
   "metadata": {},
   "outputs": [],
   "source": [
    "import numpy as np \n",
    "import datetime\n",
    "import math\n",
    "import time\n",
    "import matplotlib.pyplot as plt\n",
    "import random\n",
    "\n",
    "from essential_generators import DocumentGenerator\n",
    "from sagemaker.serializers import JSONSerializer\n",
    "gen = DocumentGenerator()"
   ]
  },
  {
   "cell_type": "markdown",
   "id": "6ec5d010",
   "metadata": {},
   "source": [
    "## Test Endpoint One"
   ]
  },
  {
   "cell_type": "code",
   "execution_count": 58,
   "id": "21a0b3d1",
   "metadata": {},
   "outputs": [
    {
     "name": "stdout",
     "output_type": "stream",
     "text": [
      "working\n"
     ]
    }
   ],
   "source": [
    "import boto3\n",
    "from botocore.config import Config\n",
    "import pandas as pd\n",
    "import itertools\n",
    "import datetime\n",
    "import json\n",
    "\n",
    "region = 'us-east-1'\n",
    "content_type = 'application/json'\n",
    "endpoint_name='roberta-multimodel-endpoint2021-07-13-02-59-06'\n",
    "target_model = \"roberta-base-0.tar.gz\"\n",
    "\n",
    "boto3config = Config(\n",
    "    retries={\n",
    "        'max_attempts': 100,\n",
    "        'mode': 'standard'\n",
    "    }\n",
    ")\n",
    "\n",
    "payload = {\"text\": \"Matthias Tomczak 220,000. 89.2% of inhabitants\"}\n",
    "payload = json.dumps(payload)\n",
    "\n",
    "sagemaker_client = boto3.client('sagemaker-runtime',\n",
    "                                     config=boto3config,\n",
    "                                     region_name=region)\n",
    "\n",
    "response = sagemaker_client.invoke_endpoint(\n",
    "    EndpointName=endpoint_name,\n",
    "    Body=payload,\n",
    "    ContentType=content_type,\n",
    "    TargetModel=target_model\n",
    ")\n",
    "response_body = response[\"Body\"].read()\n",
    "#print(response_body)\n",
    "print(\"working\")"
   ]
  },
  {
   "cell_type": "markdown",
   "id": "9ad08579",
   "metadata": {},
   "source": [
    "## Test Endpoint Two"
   ]
  },
  {
   "cell_type": "code",
   "execution_count": 59,
   "id": "8634ccae",
   "metadata": {},
   "outputs": [
    {
     "name": "stdout",
     "output_type": "stream",
     "text": [
      "working\n"
     ]
    }
   ],
   "source": [
    "import boto3\n",
    "from botocore.config import Config\n",
    "import pandas as pd\n",
    "import itertools\n",
    "import datetime\n",
    "import json\n",
    "\n",
    "region = 'us-east-1'\n",
    "content_type = 'application/json'\n",
    "endpoint_two_name = \"roberta-multimodel-endpoint-INSTANCETWO2021-07-13-03-07-24\"\n",
    "target_model = \"roberta-base-0.tar.gz\"\n",
    "\n",
    "boto3config = Config(\n",
    "    retries={\n",
    "        'max_attempts': 100,\n",
    "        'mode': 'standard'\n",
    "    }\n",
    ")\n",
    "\n",
    "payload = {\"text\": \"Matthias Tomczak 220,000. 89.2% of inhabitants\"}\n",
    "payload = json.dumps(payload)\n",
    "\n",
    "sagemaker_client = boto3.client('sagemaker-runtime',\n",
    "                                     config=boto3config,\n",
    "                                     region_name=region)\n",
    "\n",
    "response = sagemaker_client.invoke_endpoint(\n",
    "    EndpointName=endpoint_two_name,\n",
    "    Body=payload,\n",
    "    ContentType=content_type,\n",
    "    TargetModel=target_model\n",
    ")\n",
    "response_body = response[\"Body\"].read()\n",
    "#print(response_body)\n",
    "print(\"working\")"
   ]
  },
  {
   "cell_type": "markdown",
   "id": "c61da086",
   "metadata": {},
   "source": [
    "# Load Testing Without Locust"
   ]
  },
  {
   "cell_type": "code",
   "execution_count": 79,
   "id": "c90a8c1c",
   "metadata": {
    "scrolled": true
   },
   "outputs": [
    {
     "name": "stdout",
     "output_type": "stream",
     "text": [
      "Running 100 inferences for roberta-multimodel-endpoint2021-07-07-16-35-13 (max models: 10):\n",
      "Other 18th- international treaties, and ratifies diplomatic appointments. The federal government are subject to\n",
      "\n",
      "Errors - 0.0000 out of 100.0000 total runs | 0.0000% in 8.0442 seconds \n",
      "\n",
      "\n",
      "TPS: 12.4313\n",
      "Client end-to-end latency percentiles:\n",
      "Avg | P50 | P90 | P95 | P100\n",
      "77.9814 | 75.8916 | 82.5927 | 89.4579 | 158.1783 \n",
      "\n"
     ]
    }
   ],
   "source": [
    "import numpy as np \n",
    "import datetime\n",
    "import math\n",
    "import time\n",
    "import matplotlib.pyplot as plt\n",
    "import random\n",
    "\n",
    "from essential_generators import DocumentGenerator\n",
    "from sagemaker.serializers import JSONSerializer\n",
    "gen = DocumentGenerator()\n",
    "gen.init_word_cache(5000)\n",
    "gen.init_sentence_cache(5000)\n",
    "\n",
    "total_runs = 100\n",
    "max_models = 10\n",
    "\n",
    "content_type = \"application/json\" \n",
    "accept = \"application/octet-stream\"\n",
    "\n",
    "print('Running {} inferences for {} (max models: {}):'.format(total_runs, endpoint_name, max_models))\n",
    "\n",
    "client_times = []\n",
    "errors_list = []\n",
    "\n",
    "cw_start = datetime.datetime.utcnow()\n",
    "\n",
    "errors = 0\n",
    "\n",
    "print(gen.sentence())\n",
    "\n",
    "for _ in range(total_runs):\n",
    "    target_model = f'roberta-base-{random.randint(0,max_models)}.tar.gz'\n",
    "    test_data = {\"text\": gen.sentence()}\n",
    "    jsons = JSONSerializer()\n",
    "    payload = jsons.serialize(test_data)\n",
    "    client_start = time.time()\n",
    "    response = runtime_sm_client.invoke_endpoint(\n",
    "        EndpointName=endpoint_name,\n",
    "        ContentType=content_type,\n",
    "        TargetModel=target_model,\n",
    "        Body=payload)\n",
    "    client_end = time.time()\n",
    "    client_times.append((client_end - client_start)*1000)\n",
    "    skunk = response['Body'].read()\n",
    "    #print(len(skunk))  \n",
    "\n",
    "cw_end = datetime.datetime.utcnow()    \n",
    "\n",
    "cw_duration = cw_end - cw_start \n",
    "duration_in_s = cw_duration.total_seconds() \n",
    "\n",
    "tps = total_runs/duration_in_s\n",
    "\n",
    "print('\\nErrors - {:.4f} out of {:.4f} total runs | {:.4f}% in {:.4f} seconds \\n'.format(errors, total_runs, (errors/total_runs)*100, duration_in_s))\n",
    "errors = 0\n",
    "\n",
    "print('\\nTPS: {:.4f}'.format(tps))\n",
    "    \n",
    "print('Client end-to-end latency percentiles:')\n",
    "client_avg = np.mean(client_times)\n",
    "client_p50 = np.percentile(client_times, 50)\n",
    "client_p90 = np.percentile(client_times, 90)\n",
    "client_p95 = np.percentile(client_times, 95)\n",
    "client_p100 = np.percentile(client_times, 100)\n",
    "print('Avg | P50 | P90 | P95 | P100')\n",
    "print('{:.4f} | {:.4f} | {:.4f} | {:.4f} | {:.4f} \\n'.format(client_avg, client_p50, client_p90, client_p95, client_p100))\n",
    "\n",
    "# Give 5 minute buffer to end\n",
    "cw_end += datetime.timedelta(minutes=5)"
   ]
  },
  {
   "cell_type": "code",
   "execution_count": null,
   "id": "684b106d",
   "metadata": {},
   "outputs": [],
   "source": []
  },
  {
   "cell_type": "code",
   "execution_count": 66,
   "id": "7128bddd",
   "metadata": {},
   "outputs": [
    {
     "name": "stdout",
     "output_type": "stream",
     "text": [
      "/bin/sh: /home/ec2-user/anaconda3/envs/python3/bin/locust: No such file or directory\n"
     ]
    }
   ],
   "source": [
    "#cw_start = datetime.datetime.utcnow()\n",
    "#!/home/ec2-user/anaconda3/envs/python3/bin/locust -f locust_script.py -u 50 --headless --host=http://roberta-multimodel-endpoint2021-07-13-02-59-06 --stop-timeout 90 -L DEBUG -t 5m --logfile=logfile.log --csv=locustEndpointOne.csv --csv-full-history --reset-stats              \n",
    "#cw_end = datetime.datetime.utcnow()"
   ]
  },
  {
   "cell_type": "markdown",
   "id": "4dc81d7a",
   "metadata": {},
   "source": [
    "# Load Testing- Locust"
   ]
  },
  {
   "cell_type": "code",
   "execution_count": 68,
   "id": "c95df61b",
   "metadata": {},
   "outputs": [],
   "source": [
    "!pip3 install locust"
   ]
  },
  {
   "cell_type": "code",
   "execution_count": 69,
   "id": "9f1408b6",
   "metadata": {},
   "outputs": [
    {
     "name": "stdout",
     "output_type": "stream",
     "text": [
      "/home/ec2-user/anaconda3/envs/pytorch_p36/bin/locust\n"
     ]
    }
   ],
   "source": [
    "!which locust"
   ]
  },
  {
   "cell_type": "code",
   "execution_count": 26,
   "id": "f5f34cd4",
   "metadata": {},
   "outputs": [
    {
     "name": "stdout",
     "output_type": "stream",
     "text": [
      "working\n"
     ]
    }
   ],
   "source": [
    "import boto3\n",
    "from botocore.config import Config\n",
    "import pandas as pd\n",
    "import itertools\n",
    "import datetime\n",
    "import json\n",
    "\n",
    "region = 'us-east-1'\n",
    "content_type = 'application/json'\n",
    "endpoint_name='roberta-multimodel-endpoint2021-07-07-16-35-13'\n",
    "target_model = \"roberta-base-0.tar.gz\"\n",
    "\n",
    "boto3config = Config(\n",
    "    retries={\n",
    "        'max_attempts': 100,\n",
    "        'mode': 'standard'\n",
    "    }\n",
    ")\n",
    "\n",
    "payload = {\"text\": \"Matthias Tomczak 220,000. 89.2% of inhabitants\"}\n",
    "payload = json.dumps(payload)\n",
    "\n",
    "sagemaker_client = boto3.client('sagemaker-runtime',\n",
    "                                     config=boto3config,\n",
    "                                     region_name=region)\n",
    "\n",
    "response = sagemaker_client.invoke_endpoint(\n",
    "    EndpointName=endpoint_name,\n",
    "    Body=payload,\n",
    "    ContentType=content_type,\n",
    "    TargetModel=target_model\n",
    ")\n",
    "response_body = response[\"Body\"].read()\n",
    "print(\"working\")\n",
    "\n",
    "#print(response_body)"
   ]
  },
  {
   "cell_type": "markdown",
   "id": "3e1a0882",
   "metadata": {},
   "source": [
    "## Load Test Endpoint 1"
   ]
  },
  {
   "cell_type": "code",
   "execution_count": null,
   "id": "f15e5bab",
   "metadata": {},
   "outputs": [],
   "source": [
    "#Grab which locust location and endpoint name"
   ]
  },
  {
   "cell_type": "code",
   "execution_count": 72,
   "id": "5e8f0b47",
   "metadata": {},
   "outputs": [],
   "source": [
    "#cw_start = datetime.datetime.utcnow()\n",
    "#!/home/ec2-user/anaconda3/envs/pytorch_p36/bin/locust -f locustfile.py -u 10 --headless --host=http://roberta-multimodel-endpoint2021-07-13-02-59-06 --stop-timeout 90 -L DEBUG -t 5m --logfile=logfile.log --csv=TestStats-Locust/locustEndpointOne.csv --csv-full-history --reset-stats              \n",
    "#cw_end = datetime.datetime.utcnow()"
   ]
  },
  {
   "cell_type": "markdown",
   "id": "ebf3c69d",
   "metadata": {},
   "source": [
    "## Load Test Endpoint Two"
   ]
  },
  {
   "cell_type": "code",
   "execution_count": 49,
   "id": "dc916c89",
   "metadata": {},
   "outputs": [],
   "source": [
    "#cw_start = datetime.datetime.utcnow()\n",
    "#!/home/ec2-user/anaconda3/envs/pytorch_p36/bin/locust -f locustfile.py -u 10 --headless --host=http://roberta-multimodel-endpoint-INSTANCETWO2021-07-13-03-07-24 --stop-timeout 90 -L DEBUG -t 5m --logfile=logfile.log --csv=locustEndpointTwo.csv --csv-full-history --reset-stats              \n",
    "#cw_end = datetime.datetime.utcnow()"
   ]
  },
  {
   "cell_type": "code",
   "execution_count": 51,
   "id": "ab0e6712",
   "metadata": {},
   "outputs": [
    {
     "data": {
      "text/html": [
       "<div>\n",
       "<style scoped>\n",
       "    .dataframe tbody tr th:only-of-type {\n",
       "        vertical-align: middle;\n",
       "    }\n",
       "\n",
       "    .dataframe tbody tr th {\n",
       "        vertical-align: top;\n",
       "    }\n",
       "\n",
       "    .dataframe thead th {\n",
       "        text-align: right;\n",
       "    }\n",
       "</style>\n",
       "<table border=\"1\" class=\"dataframe\">\n",
       "  <thead>\n",
       "    <tr style=\"text-align: right;\">\n",
       "      <th></th>\n",
       "      <th>Timestamp</th>\n",
       "      <th>User Count</th>\n",
       "      <th>Type</th>\n",
       "      <th>Name</th>\n",
       "      <th>Requests/s</th>\n",
       "      <th>Failures/s</th>\n",
       "      <th>50%</th>\n",
       "      <th>66%</th>\n",
       "      <th>75%</th>\n",
       "      <th>80%</th>\n",
       "      <th>...</th>\n",
       "      <th>99.9%</th>\n",
       "      <th>99.99%</th>\n",
       "      <th>100%</th>\n",
       "      <th>Total Request Count</th>\n",
       "      <th>Total Failure Count</th>\n",
       "      <th>Total Median Response Time</th>\n",
       "      <th>Total Average Response Time</th>\n",
       "      <th>Total Min Response Time</th>\n",
       "      <th>Total Max Response Time</th>\n",
       "      <th>Total Average Content Size</th>\n",
       "    </tr>\n",
       "  </thead>\n",
       "  <tbody>\n",
       "    <tr>\n",
       "      <th>0</th>\n",
       "      <td>1626297691</td>\n",
       "      <td>0</td>\n",
       "      <td>NaN</td>\n",
       "      <td>Aggregated</td>\n",
       "      <td>0.0</td>\n",
       "      <td>0.0</td>\n",
       "      <td>NaN</td>\n",
       "      <td>NaN</td>\n",
       "      <td>NaN</td>\n",
       "      <td>NaN</td>\n",
       "      <td>...</td>\n",
       "      <td>NaN</td>\n",
       "      <td>NaN</td>\n",
       "      <td>NaN</td>\n",
       "      <td>0</td>\n",
       "      <td>0</td>\n",
       "      <td>0</td>\n",
       "      <td>0.000000</td>\n",
       "      <td>0</td>\n",
       "      <td>0</td>\n",
       "      <td>0.00</td>\n",
       "    </tr>\n",
       "    <tr>\n",
       "      <th>1</th>\n",
       "      <td>1626297692</td>\n",
       "      <td>1</td>\n",
       "      <td>custom_protocol_boto3</td>\n",
       "      <td>sagemaker_client_invoke_endpoint</td>\n",
       "      <td>0.0</td>\n",
       "      <td>0.0</td>\n",
       "      <td>97.0</td>\n",
       "      <td>100.0</td>\n",
       "      <td>130.0</td>\n",
       "      <td>130.0</td>\n",
       "      <td>...</td>\n",
       "      <td>150.0</td>\n",
       "      <td>150.0</td>\n",
       "      <td>150.0</td>\n",
       "      <td>8</td>\n",
       "      <td>0</td>\n",
       "      <td>95</td>\n",
       "      <td>102.250000</td>\n",
       "      <td>74</td>\n",
       "      <td>150</td>\n",
       "      <td>495500.25</td>\n",
       "    </tr>\n",
       "    <tr>\n",
       "      <th>2</th>\n",
       "      <td>1626297692</td>\n",
       "      <td>1</td>\n",
       "      <td>NaN</td>\n",
       "      <td>Aggregated</td>\n",
       "      <td>0.0</td>\n",
       "      <td>0.0</td>\n",
       "      <td>97.0</td>\n",
       "      <td>100.0</td>\n",
       "      <td>130.0</td>\n",
       "      <td>130.0</td>\n",
       "      <td>...</td>\n",
       "      <td>150.0</td>\n",
       "      <td>150.0</td>\n",
       "      <td>150.0</td>\n",
       "      <td>8</td>\n",
       "      <td>0</td>\n",
       "      <td>95</td>\n",
       "      <td>102.250000</td>\n",
       "      <td>74</td>\n",
       "      <td>150</td>\n",
       "      <td>495500.25</td>\n",
       "    </tr>\n",
       "    <tr>\n",
       "      <th>3</th>\n",
       "      <td>1626297693</td>\n",
       "      <td>2</td>\n",
       "      <td>custom_protocol_boto3</td>\n",
       "      <td>sagemaker_client_invoke_endpoint</td>\n",
       "      <td>0.0</td>\n",
       "      <td>0.0</td>\n",
       "      <td>120.0</td>\n",
       "      <td>130.0</td>\n",
       "      <td>140.0</td>\n",
       "      <td>150.0</td>\n",
       "      <td>...</td>\n",
       "      <td>180.0</td>\n",
       "      <td>180.0</td>\n",
       "      <td>180.0</td>\n",
       "      <td>22</td>\n",
       "      <td>0</td>\n",
       "      <td>120</td>\n",
       "      <td>120.045455</td>\n",
       "      <td>74</td>\n",
       "      <td>178</td>\n",
       "      <td>495501.00</td>\n",
       "    </tr>\n",
       "    <tr>\n",
       "      <th>4</th>\n",
       "      <td>1626297693</td>\n",
       "      <td>2</td>\n",
       "      <td>NaN</td>\n",
       "      <td>Aggregated</td>\n",
       "      <td>0.0</td>\n",
       "      <td>0.0</td>\n",
       "      <td>120.0</td>\n",
       "      <td>130.0</td>\n",
       "      <td>140.0</td>\n",
       "      <td>150.0</td>\n",
       "      <td>...</td>\n",
       "      <td>180.0</td>\n",
       "      <td>180.0</td>\n",
       "      <td>180.0</td>\n",
       "      <td>22</td>\n",
       "      <td>0</td>\n",
       "      <td>120</td>\n",
       "      <td>120.045455</td>\n",
       "      <td>74</td>\n",
       "      <td>178</td>\n",
       "      <td>495501.00</td>\n",
       "    </tr>\n",
       "  </tbody>\n",
       "</table>\n",
       "<p>5 rows × 24 columns</p>\n",
       "</div>"
      ],
      "text/plain": [
       "    Timestamp  User Count                   Type  \\\n",
       "0  1626297691           0                    NaN   \n",
       "1  1626297692           1  custom_protocol_boto3   \n",
       "2  1626297692           1                    NaN   \n",
       "3  1626297693           2  custom_protocol_boto3   \n",
       "4  1626297693           2                    NaN   \n",
       "\n",
       "                               Name  Requests/s  Failures/s    50%    66%  \\\n",
       "0                        Aggregated         0.0         0.0    NaN    NaN   \n",
       "1  sagemaker_client_invoke_endpoint         0.0         0.0   97.0  100.0   \n",
       "2                        Aggregated         0.0         0.0   97.0  100.0   \n",
       "3  sagemaker_client_invoke_endpoint         0.0         0.0  120.0  130.0   \n",
       "4                        Aggregated         0.0         0.0  120.0  130.0   \n",
       "\n",
       "     75%    80%  ...  99.9%  99.99%   100%  Total Request Count  \\\n",
       "0    NaN    NaN  ...    NaN     NaN    NaN                    0   \n",
       "1  130.0  130.0  ...  150.0   150.0  150.0                    8   \n",
       "2  130.0  130.0  ...  150.0   150.0  150.0                    8   \n",
       "3  140.0  150.0  ...  180.0   180.0  180.0                   22   \n",
       "4  140.0  150.0  ...  180.0   180.0  180.0                   22   \n",
       "\n",
       "   Total Failure Count  Total Median Response Time  \\\n",
       "0                    0                           0   \n",
       "1                    0                          95   \n",
       "2                    0                          95   \n",
       "3                    0                         120   \n",
       "4                    0                         120   \n",
       "\n",
       "   Total Average Response Time  Total Min Response Time  \\\n",
       "0                     0.000000                        0   \n",
       "1                   102.250000                       74   \n",
       "2                   102.250000                       74   \n",
       "3                   120.045455                       74   \n",
       "4                   120.045455                       74   \n",
       "\n",
       "   Total Max Response Time  Total Average Content Size  \n",
       "0                        0                        0.00  \n",
       "1                      150                   495500.25  \n",
       "2                      150                   495500.25  \n",
       "3                      178                   495501.00  \n",
       "4                      178                   495501.00  \n",
       "\n",
       "[5 rows x 24 columns]"
      ]
     },
     "execution_count": 51,
     "metadata": {},
     "output_type": "execute_result"
    }
   ],
   "source": [
    "endpointTwoLocust = pd.read_csv(\"locustEndpointTwo.csv_stats_history.csv\")\n",
    "endpointTwoLocust.head()"
   ]
  },
  {
   "cell_type": "code",
   "execution_count": 46,
   "id": "a9fe723a",
   "metadata": {},
   "outputs": [
    {
     "data": {
      "text/html": [
       "<div>\n",
       "<style scoped>\n",
       "    .dataframe tbody tr th:only-of-type {\n",
       "        vertical-align: middle;\n",
       "    }\n",
       "\n",
       "    .dataframe tbody tr th {\n",
       "        vertical-align: top;\n",
       "    }\n",
       "\n",
       "    .dataframe thead th {\n",
       "        text-align: right;\n",
       "    }\n",
       "</style>\n",
       "<table border=\"1\" class=\"dataframe\">\n",
       "  <thead>\n",
       "    <tr style=\"text-align: right;\">\n",
       "      <th></th>\n",
       "      <th>Type</th>\n",
       "      <th>Name</th>\n",
       "      <th>Request Count</th>\n",
       "      <th>Failure Count</th>\n",
       "      <th>Median Response Time</th>\n",
       "      <th>Average Response Time</th>\n",
       "      <th>Min Response Time</th>\n",
       "      <th>Max Response Time</th>\n",
       "      <th>Average Content Size</th>\n",
       "      <th>Requests/s</th>\n",
       "      <th>...</th>\n",
       "      <th>66%</th>\n",
       "      <th>75%</th>\n",
       "      <th>80%</th>\n",
       "      <th>90%</th>\n",
       "      <th>95%</th>\n",
       "      <th>98%</th>\n",
       "      <th>99%</th>\n",
       "      <th>99.9%</th>\n",
       "      <th>99.99%</th>\n",
       "      <th>100%</th>\n",
       "    </tr>\n",
       "  </thead>\n",
       "  <tbody>\n",
       "    <tr>\n",
       "      <th>0</th>\n",
       "      <td>custom_protocol_boto3</td>\n",
       "      <td>sagemaker_client_invoke_endpoint</td>\n",
       "      <td>8523</td>\n",
       "      <td>0</td>\n",
       "      <td>170</td>\n",
       "      <td>172.546404</td>\n",
       "      <td>121</td>\n",
       "      <td>3719</td>\n",
       "      <td>495501.205913</td>\n",
       "      <td>28.852287</td>\n",
       "      <td>...</td>\n",
       "      <td>180</td>\n",
       "      <td>190</td>\n",
       "      <td>190</td>\n",
       "      <td>200</td>\n",
       "      <td>210</td>\n",
       "      <td>220</td>\n",
       "      <td>220</td>\n",
       "      <td>1000</td>\n",
       "      <td>3700</td>\n",
       "      <td>3700</td>\n",
       "    </tr>\n",
       "  </tbody>\n",
       "</table>\n",
       "<p>1 rows × 22 columns</p>\n",
       "</div>"
      ],
      "text/plain": [
       "                    Type                              Name  Request Count  \\\n",
       "0  custom_protocol_boto3  sagemaker_client_invoke_endpoint           8523   \n",
       "\n",
       "   Failure Count  Median Response Time  Average Response Time  \\\n",
       "0              0                   170             172.546404   \n",
       "\n",
       "   Min Response Time  Max Response Time  Average Content Size  Requests/s  \\\n",
       "0                121               3719         495501.205913   28.852287   \n",
       "\n",
       "   ...  66%  75%  80%  90%  95%  98%  99%  99.9%  99.99%  100%  \n",
       "0  ...  180  190  190  200  210  220  220   1000    3700  3700  \n",
       "\n",
       "[1 rows x 22 columns]"
      ]
     },
     "execution_count": 46,
     "metadata": {},
     "output_type": "execute_result"
    }
   ],
   "source": [
    "locustE1Summary = pd.read_csv(\"locustEndpointOne.csv_stats.csv\")\n",
    "locustE1Summary = locustE1Summary.drop(1)\n",
    "locustE1Summary"
   ]
  },
  {
   "cell_type": "code",
   "execution_count": 53,
   "id": "d1bac765",
   "metadata": {},
   "outputs": [
    {
     "data": {
      "text/html": [
       "<div>\n",
       "<style scoped>\n",
       "    .dataframe tbody tr th:only-of-type {\n",
       "        vertical-align: middle;\n",
       "    }\n",
       "\n",
       "    .dataframe tbody tr th {\n",
       "        vertical-align: top;\n",
       "    }\n",
       "\n",
       "    .dataframe thead th {\n",
       "        text-align: right;\n",
       "    }\n",
       "</style>\n",
       "<table border=\"1\" class=\"dataframe\">\n",
       "  <thead>\n",
       "    <tr style=\"text-align: right;\">\n",
       "      <th></th>\n",
       "      <th>Type</th>\n",
       "      <th>Name</th>\n",
       "      <th>Request Count</th>\n",
       "      <th>Failure Count</th>\n",
       "      <th>Median Response Time</th>\n",
       "      <th>Average Response Time</th>\n",
       "      <th>Min Response Time</th>\n",
       "      <th>Max Response Time</th>\n",
       "      <th>Average Content Size</th>\n",
       "      <th>Requests/s</th>\n",
       "      <th>...</th>\n",
       "      <th>66%</th>\n",
       "      <th>75%</th>\n",
       "      <th>80%</th>\n",
       "      <th>90%</th>\n",
       "      <th>95%</th>\n",
       "      <th>98%</th>\n",
       "      <th>99%</th>\n",
       "      <th>99.9%</th>\n",
       "      <th>99.99%</th>\n",
       "      <th>100%</th>\n",
       "    </tr>\n",
       "  </thead>\n",
       "  <tbody>\n",
       "    <tr>\n",
       "      <th>0</th>\n",
       "      <td>custom_protocol_boto3</td>\n",
       "      <td>sagemaker_client_invoke_endpoint</td>\n",
       "      <td>4926</td>\n",
       "      <td>0</td>\n",
       "      <td>580</td>\n",
       "      <td>591.231019</td>\n",
       "      <td>460</td>\n",
       "      <td>1328</td>\n",
       "      <td>495501.145757</td>\n",
       "      <td>16.910832</td>\n",
       "      <td>...</td>\n",
       "      <td>600</td>\n",
       "      <td>610</td>\n",
       "      <td>620</td>\n",
       "      <td>640</td>\n",
       "      <td>670</td>\n",
       "      <td>760</td>\n",
       "      <td>820</td>\n",
       "      <td>1200</td>\n",
       "      <td>1300</td>\n",
       "      <td>1300</td>\n",
       "    </tr>\n",
       "  </tbody>\n",
       "</table>\n",
       "<p>1 rows × 22 columns</p>\n",
       "</div>"
      ],
      "text/plain": [
       "                    Type                              Name  Request Count  \\\n",
       "0  custom_protocol_boto3  sagemaker_client_invoke_endpoint           4926   \n",
       "\n",
       "   Failure Count  Median Response Time  Average Response Time  \\\n",
       "0              0                   580             591.231019   \n",
       "\n",
       "   Min Response Time  Max Response Time  Average Content Size  Requests/s  \\\n",
       "0                460               1328         495501.145757   16.910832   \n",
       "\n",
       "   ...  66%  75%  80%  90%  95%  98%  99%  99.9%  99.99%  100%  \n",
       "0  ...  600  610  620  640  670  760  820   1200    1300  1300  \n",
       "\n",
       "[1 rows x 22 columns]"
      ]
     },
     "execution_count": 53,
     "metadata": {},
     "output_type": "execute_result"
    }
   ],
   "source": [
    "locustE2Summary = pd.read_csv(\"locustEndpointTwo.csv_stats.csv\")\n",
    "locustE2Summary = locustE2Summary.drop(1)\n",
    "locustE2Summary"
   ]
  },
  {
   "cell_type": "code",
   "execution_count": 25,
   "id": "b0ae305d",
   "metadata": {},
   "outputs": [],
   "source": [
    "percentilesValuesE1 = []\n",
    "percentilesValuesE1.append(list(locustE1Summary['50%'])[0])\n",
    "percentilesValuesE1.append(list(locustE1Summary['66%'])[0])\n",
    "percentilesValuesE1.append(list(locustE1Summary['75%'])[0])\n",
    "percentilesValuesE1.append(list(locustE1Summary['80%'])[0])\n",
    "percentilesValuesE1.append(list(locustE1Summary['90%'])[0])\n",
    "percentilesValuesE1.append(list(locustE1Summary['95%'])[0])\n",
    "percentilesValuesE1.append(list(locustE1Summary['98%'])[0])\n",
    "percentilesValuesE1.append(list(locustE1Summary['99%'])[0])\n",
    "percentilesValuesE1.append(list(locustE1Summary['99.9%'])[0])\n",
    "percentilesValuesE1.append(list(locustE1Summary['99.99%'])[0])\n",
    "percentilesValuesE1.append(list(locustE1Summary['100%'])[0])\n",
    "\n",
    "\n",
    "percentilesValuesE2 = []\n",
    "percentilesValuesE2.append(list(locustE2Summary['50%'])[0])\n",
    "percentilesValuesE2.append(list(locustE2Summary['66%'])[0])\n",
    "percentilesValuesE2.append(list(locustE2Summary['75%'])[0])\n",
    "percentilesValuesE2.append(list(locustE2Summary['80%'])[0])\n",
    "percentilesValuesE2.append(list(locustE2Summary['90%'])[0])\n",
    "percentilesValuesE2.append(list(locustE2Summary['95%'])[0])\n",
    "percentilesValuesE2.append(list(locustE2Summary['98%'])[0])\n",
    "percentilesValuesE2.append(list(locustE2Summary['99%'])[0])\n",
    "percentilesValuesE2.append(list(locustE2Summary['99.9%'])[0])\n",
    "percentilesValuesE2.append(list(locustE2Summary['99.99%'])[0])\n",
    "percentilesValuesE2.append(list(locustE2Summary['100%'])[0])"
   ]
  },
  {
   "cell_type": "code",
   "execution_count": 38,
   "id": "83385725",
   "metadata": {},
   "outputs": [
    {
     "data": {
      "image/png": "[encoded data removed]",
      "text/plain": [
       "<Figure size 432x288 with 1 Axes>"
      ]
     },
     "metadata": {
      "needs_background": "light"
     },
     "output_type": "display_data"
    }
   ],
   "source": [
    "import seaborn as sns\n",
    "import numpy as np\n",
    "import matplotlib.pyplot as plt\n",
    "\n",
    "#sns.set_style('darkgrid')\n",
    "X = ['50', '66', '75', '80', '90', '95', '98', '99', '99.9','99.99', '100']\n",
    "X_axis = np.arange(len(X))\n",
    "  \n",
    "plt.bar(X_axis - 0.2, percentilesValuesE1, 0.3, label = 'ml.c5d.18xlarge')\n",
    "plt.bar(X_axis + 0.2,percentilesValuesE2 , 0.3, label = 'ml.m5d.4xlarge')\n",
    "  \n",
    "plt.xticks(X_axis, X)\n",
    "plt.xlabel(\"Latency Percentile (%)\")\n",
    "plt.ylabel(\"E2E Latency\")\n",
    "plt.title(\"Comparing SM Compute Instances Optimize Latency\")\n",
    "plt.legend()\n",
    "plt.show()"
   ]
  },
  {
   "cell_type": "code",
   "execution_count": 29,
   "id": "0ead8bfb",
   "metadata": {},
   "outputs": [
    {
     "data": {
      "text/html": [
       "<div>\n",
       "<style scoped>\n",
       "    .dataframe tbody tr th:only-of-type {\n",
       "        vertical-align: middle;\n",
       "    }\n",
       "\n",
       "    .dataframe tbody tr th {\n",
       "        vertical-align: top;\n",
       "    }\n",
       "\n",
       "    .dataframe thead th {\n",
       "        text-align: right;\n",
       "    }\n",
       "</style>\n",
       "<table border=\"1\" class=\"dataframe\">\n",
       "  <thead>\n",
       "    <tr style=\"text-align: right;\">\n",
       "      <th></th>\n",
       "      <th>Type</th>\n",
       "      <th>Name</th>\n",
       "      <th>Request Count</th>\n",
       "      <th>Failure Count</th>\n",
       "      <th>Median Response Time</th>\n",
       "      <th>Average Response Time</th>\n",
       "      <th>Min Response Time</th>\n",
       "      <th>Max Response Time</th>\n",
       "      <th>Average Content Size</th>\n",
       "      <th>Requests/s</th>\n",
       "      <th>...</th>\n",
       "      <th>66%</th>\n",
       "      <th>75%</th>\n",
       "      <th>80%</th>\n",
       "      <th>90%</th>\n",
       "      <th>95%</th>\n",
       "      <th>98%</th>\n",
       "      <th>99%</th>\n",
       "      <th>99.9%</th>\n",
       "      <th>99.99%</th>\n",
       "      <th>100%</th>\n",
       "    </tr>\n",
       "  </thead>\n",
       "  <tbody>\n",
       "    <tr>\n",
       "      <th>0</th>\n",
       "      <td>custom_protocol_boto3</td>\n",
       "      <td>sagemaker_client_invoke_endpoint</td>\n",
       "      <td>8617</td>\n",
       "      <td>0</td>\n",
       "      <td>170</td>\n",
       "      <td>170.557851</td>\n",
       "      <td>109</td>\n",
       "      <td>1313</td>\n",
       "      <td>495501.227341</td>\n",
       "      <td>29.186077</td>\n",
       "      <td>...</td>\n",
       "      <td>180</td>\n",
       "      <td>190</td>\n",
       "      <td>190</td>\n",
       "      <td>200</td>\n",
       "      <td>200</td>\n",
       "      <td>220</td>\n",
       "      <td>220</td>\n",
       "      <td>240</td>\n",
       "      <td>1300</td>\n",
       "      <td>1300</td>\n",
       "    </tr>\n",
       "    <tr>\n",
       "      <th>1</th>\n",
       "      <td>NaN</td>\n",
       "      <td>Aggregated</td>\n",
       "      <td>8617</td>\n",
       "      <td>0</td>\n",
       "      <td>170</td>\n",
       "      <td>170.557851</td>\n",
       "      <td>109</td>\n",
       "      <td>1313</td>\n",
       "      <td>495501.227341</td>\n",
       "      <td>29.186077</td>\n",
       "      <td>...</td>\n",
       "      <td>180</td>\n",
       "      <td>190</td>\n",
       "      <td>190</td>\n",
       "      <td>200</td>\n",
       "      <td>200</td>\n",
       "      <td>220</td>\n",
       "      <td>220</td>\n",
       "      <td>240</td>\n",
       "      <td>1300</td>\n",
       "      <td>1300</td>\n",
       "    </tr>\n",
       "  </tbody>\n",
       "</table>\n",
       "<p>2 rows × 22 columns</p>\n",
       "</div>"
      ],
      "text/plain": [
       "                    Type                              Name  Request Count  \\\n",
       "0  custom_protocol_boto3  sagemaker_client_invoke_endpoint           8617   \n",
       "1                    NaN                        Aggregated           8617   \n",
       "\n",
       "   Failure Count  Median Response Time  Average Response Time  \\\n",
       "0              0                   170             170.557851   \n",
       "1              0                   170             170.557851   \n",
       "\n",
       "   Min Response Time  Max Response Time  Average Content Size  Requests/s  \\\n",
       "0                109               1313         495501.227341   29.186077   \n",
       "1                109               1313         495501.227341   29.186077   \n",
       "\n",
       "   ...  66%  75%  80%  90%  95%  98%  99%  99.9%  99.99%  100%  \n",
       "0  ...  180  190  190  200  200  220  220    240    1300  1300  \n",
       "1  ...  180  190  190  200  200  220  220    240    1300  1300  \n",
       "\n",
       "[2 rows x 22 columns]"
      ]
     },
     "execution_count": 29,
     "metadata": {},
     "output_type": "execute_result"
    }
   ],
   "source": [
    "locustSummary = pd.read_csv('locust.csv_stats.csv')\n",
    "locustSummary.head()"
   ]
  },
  {
   "cell_type": "code",
   "execution_count": 30,
   "id": "418d9d18",
   "metadata": {},
   "outputs": [
    {
     "data": {
      "text/plain": [
       "Index(['Type', 'Name', 'Request Count', 'Failure Count',\n",
       "       'Median Response Time', 'Average Response Time', 'Min Response Time',\n",
       "       'Max Response Time', 'Average Content Size', 'Requests/s', 'Failures/s',\n",
       "       '50%', '66%', '75%', '80%', '90%', '95%', '98%', '99%', '99.9%',\n",
       "       '99.99%', '100%'],\n",
       "      dtype='object')"
      ]
     },
     "execution_count": 30,
     "metadata": {},
     "output_type": "execute_result"
    }
   ],
   "source": [
    "locustSummary.columns"
   ]
  },
  {
   "cell_type": "code",
   "execution_count": 32,
   "id": "1231fef7",
   "metadata": {},
   "outputs": [
    {
     "data": {
      "text/html": [
       "<div>\n",
       "<style scoped>\n",
       "    .dataframe tbody tr th:only-of-type {\n",
       "        vertical-align: middle;\n",
       "    }\n",
       "\n",
       "    .dataframe tbody tr th {\n",
       "        vertical-align: top;\n",
       "    }\n",
       "\n",
       "    .dataframe thead th {\n",
       "        text-align: right;\n",
       "    }\n",
       "</style>\n",
       "<table border=\"1\" class=\"dataframe\">\n",
       "  <thead>\n",
       "    <tr style=\"text-align: right;\">\n",
       "      <th></th>\n",
       "      <th>Type</th>\n",
       "      <th>Name</th>\n",
       "      <th>Request Count</th>\n",
       "      <th>Failure Count</th>\n",
       "      <th>Median Response Time</th>\n",
       "      <th>Average Response Time</th>\n",
       "      <th>Min Response Time</th>\n",
       "      <th>Max Response Time</th>\n",
       "      <th>Average Content Size</th>\n",
       "      <th>Requests/s</th>\n",
       "      <th>...</th>\n",
       "      <th>66%</th>\n",
       "      <th>75%</th>\n",
       "      <th>80%</th>\n",
       "      <th>90%</th>\n",
       "      <th>95%</th>\n",
       "      <th>98%</th>\n",
       "      <th>99%</th>\n",
       "      <th>99.9%</th>\n",
       "      <th>99.99%</th>\n",
       "      <th>100%</th>\n",
       "    </tr>\n",
       "  </thead>\n",
       "  <tbody>\n",
       "    <tr>\n",
       "      <th>0</th>\n",
       "      <td>custom_protocol_boto3</td>\n",
       "      <td>sagemaker_client_invoke_endpoint</td>\n",
       "      <td>8617</td>\n",
       "      <td>0</td>\n",
       "      <td>170</td>\n",
       "      <td>170.557851</td>\n",
       "      <td>109</td>\n",
       "      <td>1313</td>\n",
       "      <td>495501.227341</td>\n",
       "      <td>29.186077</td>\n",
       "      <td>...</td>\n",
       "      <td>180</td>\n",
       "      <td>190</td>\n",
       "      <td>190</td>\n",
       "      <td>200</td>\n",
       "      <td>200</td>\n",
       "      <td>220</td>\n",
       "      <td>220</td>\n",
       "      <td>240</td>\n",
       "      <td>1300</td>\n",
       "      <td>1300</td>\n",
       "    </tr>\n",
       "  </tbody>\n",
       "</table>\n",
       "<p>1 rows × 22 columns</p>\n",
       "</div>"
      ],
      "text/plain": [
       "                    Type                              Name  Request Count  \\\n",
       "0  custom_protocol_boto3  sagemaker_client_invoke_endpoint           8617   \n",
       "\n",
       "   Failure Count  Median Response Time  Average Response Time  \\\n",
       "0              0                   170             170.557851   \n",
       "\n",
       "   Min Response Time  Max Response Time  Average Content Size  Requests/s  \\\n",
       "0                109               1313         495501.227341   29.186077   \n",
       "\n",
       "   ...  66%  75%  80%  90%  95%  98%  99%  99.9%  99.99%  100%  \n",
       "0  ...  180  190  190  200  200  220  220    240    1300  1300  \n",
       "\n",
       "[1 rows x 22 columns]"
      ]
     },
     "execution_count": 32,
     "metadata": {},
     "output_type": "execute_result"
    }
   ],
   "source": [
    "locustSummary = locustSummary.drop(1)\n",
    "locustSummary.head()"
   ]
  },
  {
   "cell_type": "markdown",
   "id": "95e02bf3",
   "metadata": {},
   "source": [
    "# CloudWatch"
   ]
  },
  {
   "cell_type": "code",
   "execution_count": 54,
   "id": "b9134bd0",
   "metadata": {},
   "outputs": [],
   "source": [
    "import math\n",
    "import time\n",
    "\n",
    "statistics = ['Sum', 'SampleCount', 'Average', 'Minimum', 'Maximum']\n",
    "extended = ['p50', 'p90', 'p95', 'p99', 'p100']\n",
    "\n",
    "metrics_to_gather = []\n",
    "metrics_to_gather.append('CPUUtilization')\n",
    "metrics_to_gather.append('MemoryUtilization')\n",
    "metrics_to_gather.append('GPUUtilization')\n",
    "metrics_to_gather.append('GPUMemoryUtilization')\n",
    "metrics_to_gather.append('DiskUtilization')\n",
    "metrics_to_gather.append('ModelLatency')\n",
    "metrics_to_gather.append('OverheadLatency')\n",
    "metrics_to_gather.append('Invocations')\n",
    "metrics_to_gather.append('Invocation4XXErrors')\n",
    "metrics_to_gather.append('Invocation5XXErrors')\n",
    "metrics_to_gather.append('InvocationsPerInstance')\n",
    "\n",
    "def get_sample_count(cw_end, cw_start):\n",
    "    \n",
    "    cloudwatch = boto3.client('cloudwatch')\n",
    "    metrics_to_gather=['Invocations']\n",
    "    statistics=['SampleCount']\n",
    "    \n",
    "    factor = math.ceil((cw_end - cw_start).total_seconds() / 60)\n",
    "    period = factor * 60\n",
    "    \n",
    "    cloudwatch_ready = False\n",
    "    \n",
    "    # Keep polling CloudWatch metrics until datapoints are available\n",
    "    while not cloudwatch_ready:\n",
    "        time.sleep(90)\n",
    "        for metric in metrics_to_gather:\n",
    "            model_latency_metrics = cloudwatch.get_metric_statistics(MetricName=metric,\n",
    "                                             Dimensions=[{'Name': 'EndpointName',\n",
    "                                                          'Value': endpoint_name},\n",
    "                                                         {'Name': 'VariantName',\n",
    "                                                          'Value': \"AllTraffic\"}],\n",
    "                                             Namespace=\"AWS/SageMaker\",\n",
    "                                             StartTime=cw_start,\n",
    "                                             EndTime=cw_end,\n",
    "                                             Period=period,\n",
    "                                             Statistics=statistics\n",
    "                                             )\n",
    "            if len(model_latency_metrics['Datapoints']) > 0:\n",
    "                samplecount = model_latency_metrics['Datapoints'][0]['SampleCount']\n",
    "                cloudwatch_ready = True\n",
    "    \n",
    "    return(samplecount)\n",
    "\n",
    "def collect_cloudwatch_metrics(statistics, extended, metrics_to_gather, total_runs, cw_end, cw_start):\n",
    "    \n",
    "    print('Getting Cloudwatch:')\n",
    "    cloudwatch = boto3.client('cloudwatch')\n",
    "\n",
    "    # Period must be 1, 5, 10, 30, or multiple of 60\n",
    "    # Calculate closest multiple of 60 to the total elapsed time\n",
    "    factor = math.ceil((cw_end - cw_start).total_seconds() / 60)\n",
    "    period = factor * 60\n",
    "    print('Time elapsed: {} seconds'.format((cw_end - cw_start).total_seconds()))\n",
    "    print('Using period of {} seconds\\n'.format(period))\n",
    "\n",
    "    cloudwatch_ready = False\n",
    "    \n",
    "    # Keep polling CloudWatch metrics until datapoints are available\n",
    "    while not cloudwatch_ready:\n",
    "        \n",
    "        time.sleep(90)\n",
    "        \n",
    "        print('Waiting 30 seconds ...')\n",
    "\n",
    "        for metric in metrics_to_gather:\n",
    "            \n",
    "            if(metric.find('Util') != -1):\n",
    "                namespace = \"/aws/sagemaker/Endpoints\"\n",
    "            else:\n",
    "                namespace = \"AWS/SageMaker\"\n",
    "            \n",
    "            model_latency_metrics = cloudwatch.get_metric_statistics(MetricName=metric,\n",
    "                                             Dimensions=[{'Name': 'EndpointName',\n",
    "                                                          'Value': endpoint_name},\n",
    "                                                         {'Name': 'VariantName',\n",
    "                                                          'Value': \"AllTraffic\"}],\n",
    "                                             Namespace=namespace,\n",
    "                                             StartTime=cw_start,\n",
    "                                             EndTime=cw_end,\n",
    "                                             Period=period,\n",
    "                                             Statistics=statistics,\n",
    "                                             ExtendedStatistics=extended\n",
    "                                             )            \n",
    "            #print(metric)\n",
    "            if len(model_latency_metrics['Datapoints']) > 0:\n",
    "                #print(model_latency_metrics)\n",
    "                print(metric +'\\n')\n",
    "                side_avg = model_latency_metrics['Datapoints'][0]['Average'] / total_runs\n",
    "                side_p50 = model_latency_metrics['Datapoints'][0]['ExtendedStatistics']['p50'] / total_runs\n",
    "                side_p90 = model_latency_metrics['Datapoints'][0]['ExtendedStatistics']['p90'] / total_runs\n",
    "                side_p95 = model_latency_metrics['Datapoints'][0]['ExtendedStatistics']['p95'] / total_runs\n",
    "                side_p99 = model_latency_metrics['Datapoints'][0]['ExtendedStatistics']['p99'] / total_runs\n",
    "                side_p100 = model_latency_metrics['Datapoints'][0]['ExtendedStatistics']['p100'] / total_runs\n",
    "\n",
    "                sumcount = model_latency_metrics['Datapoints'][0]['Sum']\n",
    "                samplecount = model_latency_metrics['Datapoints'][0]['SampleCount']\n",
    "                average = model_latency_metrics['Datapoints'][0]['Average']\n",
    "                minimum = model_latency_metrics['Datapoints'][0]['Minimum']\n",
    "                maximum = model_latency_metrics['Datapoints'][0]['Maximum']\n",
    "\n",
    "                #statistics = ['Sum', 'SampleCount', 'Average', 'Minimum', 'Maximum']\n",
    "                #extended = ['p50', 'p90', 'p95', 'p99', 'p100']\n",
    "                print('Avg | P50 | P90 | P95 | P95 | P100')\n",
    "                print('{:.4f} | {:.4f} | {:.4f} | {:.4f} | {:.4f}\\n'.format(side_avg, side_p50, side_p90, side_p95, side_p99, side_p100))\n",
    "                print('Sum | SampleCount | Average | Minimum | Maximum')\n",
    "                print('{:.4f} | {:.4f} | {:.4f} | {:.4f} | {:.4f}\\n'.format(sumcount, samplecount, average, minimum, maximum))\n",
    "                \n",
    "                cloudwatch_ready = True"
   ]
  },
  {
   "cell_type": "code",
   "execution_count": 55,
   "id": "25fc7a11",
   "metadata": {},
   "outputs": [
    {
     "name": "stdout",
     "output_type": "stream",
     "text": [
      "Getting Cloudwatch:\n",
      "Time elapsed: 302.010715 seconds\n",
      "Using period of 360 seconds\n",
      "\n",
      "Waiting 30 seconds ...\n",
      "CPUUtilization\n",
      "\n",
      "Avg | P50 | P90 | P95 | P95 | P100\n",
      "0.0580 | 0.0582 | 0.0585 | 0.0586 | 0.0586\n",
      "\n",
      "Sum | SampleCount | Average | Minimum | Maximum\n",
      "1.4506 | 5.0000 | 0.2901 | 0.2870 | 0.2932\n",
      "\n",
      "MemoryUtilization\n",
      "\n",
      "Avg | P50 | P90 | P95 | P95 | P100\n",
      "0.3236 | 0.3236 | 0.3237 | 0.3237 | 0.3237\n",
      "\n",
      "Sum | SampleCount | Average | Minimum | Maximum\n",
      "8.0904 | 5.0000 | 1.6181 | 1.6178 | 1.6184\n",
      "\n",
      "DiskUtilization\n",
      "\n",
      "Avg | P50 | P90 | P95 | P95 | P100\n",
      "0.0071 | 0.0071 | 0.0071 | 0.0071 | 0.0071\n",
      "\n",
      "Sum | SampleCount | Average | Minimum | Maximum\n",
      "0.1766 | 5.0000 | 0.0353 | 0.0353 | 0.0353\n",
      "\n",
      "Invocations\n",
      "\n",
      "Avg | P50 | P90 | P95 | P95 | P100\n",
      "0.0000 | 0.0000 | 0.0000 | 0.0000 | 0.0000\n",
      "\n",
      "Sum | SampleCount | Average | Minimum | Maximum\n",
      "0.0000 | 5.0000 | 0.0000 | 0.0000 | 0.0000\n",
      "\n",
      "InvocationsPerInstance\n",
      "\n",
      "Avg | P50 | P90 | P95 | P95 | P100\n",
      "0.0000 | 0.0000 | 0.0000 | 0.0000 | 0.0000\n",
      "\n",
      "Sum | SampleCount | Average | Minimum | Maximum\n",
      "0.0000 | 5.0000 | 0.0000 | 0.0000 | 0.0000\n",
      "\n"
     ]
    }
   ],
   "source": [
    "total_runs = get_sample_count(cw_end, cw_start)\n",
    "collect_cloudwatch_metrics(statistics, extended, metrics_to_gather, total_runs, cw_end, cw_start)"
   ]
  },
  {
   "cell_type": "code",
   "execution_count": 63,
   "id": "6486c864",
   "metadata": {},
   "outputs": [],
   "source": [
    "import math\n",
    "import time\n",
    "\n",
    "statistics = ['Sum', 'SampleCount', 'Average', 'Minimum', 'Maximum']\n",
    "extended = ['p50', 'p90', 'p95', 'p99', 'p100']\n",
    "\n",
    "metrics_to_gather = []\n",
    "metrics_to_gather.append('CPUUtilization')\n",
    "metrics_to_gather.append('MemoryUtilization')\n",
    "metrics_to_gather.append('GPUUtilization')\n",
    "metrics_to_gather.append('GPUMemoryUtilization')\n",
    "metrics_to_gather.append('DiskUtilization')\n",
    "metrics_to_gather.append('ModelLatency')\n",
    "metrics_to_gather.append('OverheadLatency')\n",
    "metrics_to_gather.append('Invocations')\n",
    "metrics_to_gather.append('Invocation4XXErrors')\n",
    "metrics_to_gather.append('Invocation5XXErrors')\n",
    "metrics_to_gather.append('InvocationsPerInstance')\n",
    "\n",
    "def get_sample_count(cw_end, cw_start):\n",
    "    \n",
    "    cloudwatch = boto3.client('cloudwatch')\n",
    "    metrics_to_gather=['Invocations']\n",
    "    statistics=['SampleCount']\n",
    "    \n",
    "    factor = math.ceil((cw_end - cw_start).total_seconds() / 60)\n",
    "    period = factor * 60\n",
    "    \n",
    "    cloudwatch_ready = False\n",
    "    \n",
    "    # Keep polling CloudWatch metrics until datapoints are available\n",
    "    while not cloudwatch_ready:\n",
    "        time.sleep(90)\n",
    "        for metric in metrics_to_gather:\n",
    "            model_latency_metrics = cloudwatch.get_metric_statistics(MetricName=metric,\n",
    "                                             Dimensions=[{'Name': 'EndpointName',\n",
    "                                                          'Value': endpoint_name},\n",
    "                                                         {'Name': 'VariantName',\n",
    "                                                          'Value': \"AllTraffic\"}],\n",
    "                                             Namespace=\"AWS/SageMaker\",\n",
    "                                             StartTime=cw_start,\n",
    "                                             EndTime=cw_end,\n",
    "                                             Period=period,\n",
    "                                             Statistics=statistics\n",
    "                                             )\n",
    "            if len(model_latency_metrics['Datapoints']) > 0:\n",
    "                samplecount = model_latency_metrics['Datapoints'][0]['SampleCount']\n",
    "                cloudwatch_ready = True\n",
    "    \n",
    "    return(samplecount)\n",
    "\n",
    "def collect_cloudwatch_metrics(statistics, extended, metrics_to_gather, total_runs, cw_end, cw_start):\n",
    "    \n",
    "    print('Getting Cloudwatch:')\n",
    "    cloudwatch = boto3.client('cloudwatch')\n",
    "\n",
    "    # Period must be 1, 5, 10, 30, or multiple of 60\n",
    "    # Calculate closest multiple of 60 to the total elapsed time\n",
    "    factor = math.ceil((cw_end - cw_start).total_seconds() / 60)\n",
    "    period = factor * 60\n",
    "    print('Time elapsed: {} seconds'.format((cw_end - cw_start).total_seconds()))\n",
    "    print('Using period of {} seconds\\n'.format(period))\n",
    "\n",
    "    cloudwatch_ready = False\n",
    "    \n",
    "    # Keep polling CloudWatch metrics until datapoints are available\n",
    "    while not cloudwatch_ready:\n",
    "        \n",
    "        time.sleep(90)\n",
    "        \n",
    "        print('Waiting 30 seconds ...')\n",
    "\n",
    "        for metric in metrics_to_gather:\n",
    "            \n",
    "            if(metric.find('Util') != -1):\n",
    "                namespace = \"/aws/sagemaker/Endpoints\"\n",
    "            else:\n",
    "                namespace = \"AWS/SageMaker\"\n",
    "            \n",
    "            model_latency_metrics = cloudwatch.get_metric_statistics(MetricName=metric,\n",
    "                                             Dimensions=[{'Name': 'EndpointName',\n",
    "                                                          'Value': endpoint_two_name},\n",
    "                                                         {'Name': 'VariantName',\n",
    "                                                          'Value': \"AllTraffic\"}],\n",
    "                                             Namespace=namespace,\n",
    "                                             StartTime=cw_start,\n",
    "                                             EndTime=cw_end,\n",
    "                                             Period=period,\n",
    "                                             Statistics=statistics,\n",
    "                                             ExtendedStatistics=extended\n",
    "                                             )            \n",
    "            #print(metric)\n",
    "            if len(model_latency_metrics['Datapoints']) > 0:\n",
    "                #print(model_latency_metrics)\n",
    "                print(metric +'\\n')\n",
    "                side_avg = model_latency_metrics['Datapoints'][0]['Average'] / total_runs\n",
    "                side_p50 = model_latency_metrics['Datapoints'][0]['ExtendedStatistics']['p50'] / total_runs\n",
    "                side_p90 = model_latency_metrics['Datapoints'][0]['ExtendedStatistics']['p90'] / total_runs\n",
    "                side_p95 = model_latency_metrics['Datapoints'][0]['ExtendedStatistics']['p95'] / total_runs\n",
    "                side_p99 = model_latency_metrics['Datapoints'][0]['ExtendedStatistics']['p99'] / total_runs\n",
    "                side_p100 = model_latency_metrics['Datapoints'][0]['ExtendedStatistics']['p100'] / total_runs\n",
    "\n",
    "                sumcount = model_latency_metrics['Datapoints'][0]['Sum']\n",
    "                samplecount = model_latency_metrics['Datapoints'][0]['SampleCount']\n",
    "                average = model_latency_metrics['Datapoints'][0]['Average']\n",
    "                minimum = model_latency_metrics['Datapoints'][0]['Minimum']\n",
    "                maximum = model_latency_metrics['Datapoints'][0]['Maximum']\n",
    "\n",
    "                #statistics = ['Sum', 'SampleCount', 'Average', 'Minimum', 'Maximum']\n",
    "                #extended = ['p50', 'p90', 'p95', 'p99', 'p100']\n",
    "                print('Avg | P50 | P90 | P95 | P95 | P100')\n",
    "                print('{:.4f} | {:.4f} | {:.4f} | {:.4f} | {:.4f}\\n'.format(side_avg, side_p50, side_p90, side_p95, side_p99, side_p100))\n",
    "                print('Sum | SampleCount | Average | Minimum | Maximum')\n",
    "                print('{:.4f} | {:.4f} | {:.4f} | {:.4f} | {:.4f}\\n'.format(sumcount, samplecount, average, minimum, maximum))\n",
    "                \n",
    "                cloudwatch_ready = True"
   ]
  },
  {
   "cell_type": "code",
   "execution_count": 64,
   "id": "15d15b94",
   "metadata": {},
   "outputs": [
    {
     "name": "stdout",
     "output_type": "stream",
     "text": [
      "Getting Cloudwatch:\n",
      "Time elapsed: 302.010715 seconds\n",
      "Using period of 360 seconds\n",
      "\n",
      "Waiting 30 seconds ...\n",
      "CPUUtilization\n",
      "\n",
      "Avg | P50 | P90 | P95 | P95 | P100\n",
      "217.1179 | 257.6641 | 260.4823 | 260.8368 | 261.1206\n",
      "\n",
      "Sum | SampleCount | Average | Minimum | Maximum\n",
      "7816.2460 | 6.0000 | 1302.7077 | 496.0960 | 1567.1500\n",
      "\n",
      "MemoryUtilization\n",
      "\n",
      "Avg | P50 | P90 | P95 | P95 | P100\n",
      "0.5438 | 0.5432 | 0.5593 | 0.5613 | 0.5630\n",
      "\n",
      "Sum | SampleCount | Average | Minimum | Maximum\n",
      "19.5784 | 6.0000 | 3.2631 | 3.1427 | 3.3804\n",
      "\n",
      "DiskUtilization\n",
      "\n",
      "Avg | P50 | P90 | P95 | P95 | P100\n",
      "0.0173 | 0.0173 | 0.0174 | 0.0174 | 0.0174\n",
      "\n",
      "Sum | SampleCount | Average | Minimum | Maximum\n",
      "0.6246 | 6.0000 | 0.1041 | 0.1036 | 0.1046\n",
      "\n",
      "ModelLatency\n",
      "\n",
      "Avg | P50 | P90 | P95 | P95 | P100\n",
      "94805.6104 | 93964.4762 | 105356.8075 | 111512.2272 | 132965.9511\n",
      "\n",
      "Sum | SampleCount | Average | Minimum | Maximum\n",
      "2873747663.0000 | 5052.0000 | 568833.6625 | 63195.0000 | 1304678.0000\n",
      "\n",
      "OverheadLatency\n",
      "\n",
      "Avg | P50 | P90 | P95 | P95 | P100\n",
      "900.2121 | 720.6551 | 991.6399 | 1224.9492 | 3483.3996\n",
      "\n",
      "Sum | SampleCount | Average | Minimum | Maximum\n",
      "27287228.0000 | 5052.0000 | 5401.2724 | 2789.0000 | 606288.0000\n",
      "\n",
      "Invocations\n",
      "\n",
      "Avg | P50 | P90 | P95 | P95 | P100\n",
      "0.1667 | 0.1667 | 0.1667 | 0.1667 | 0.1667\n",
      "\n",
      "Sum | SampleCount | Average | Minimum | Maximum\n",
      "5052.0000 | 5052.0000 | 1.0000 | 1.0000 | 1.0000\n",
      "\n",
      "Invocation4XXErrors\n",
      "\n",
      "Avg | P50 | P90 | P95 | P95 | P100\n",
      "0.0000 | 0.0000 | 0.0000 | 0.0000 | 0.0000\n",
      "\n",
      "Sum | SampleCount | Average | Minimum | Maximum\n",
      "0.0000 | 5052.0000 | 0.0000 | 0.0000 | 0.0000\n",
      "\n",
      "Invocation5XXErrors\n",
      "\n",
      "Avg | P50 | P90 | P95 | P95 | P100\n",
      "0.0000 | 0.0000 | 0.0000 | 0.0000 | 0.0000\n",
      "\n",
      "Sum | SampleCount | Average | Minimum | Maximum\n",
      "0.0000 | 5052.0000 | 0.0000 | 0.0000 | 0.0000\n",
      "\n",
      "InvocationsPerInstance\n",
      "\n",
      "Avg | P50 | P90 | P95 | P95 | P100\n",
      "0.1667 | 0.1667 | 0.1667 | 0.1667 | 0.1667\n",
      "\n",
      "Sum | SampleCount | Average | Minimum | Maximum\n",
      "5052.0000 | 5052.0000 | 1.0000 | 1.0000 | 1.0000\n",
      "\n"
     ]
    }
   ],
   "source": [
    "total_runs = get_sample_count(cw_end, cw_start)\n",
    "collect_cloudwatch_metrics(statistics, extended, metrics_to_gather, total_runs, cw_end, cw_start)"
   ]
  }
 ],
 "metadata": {
  "kernelspec": {
   "display_name": "conda_pytorch_p36",
   "language": "python",
   "name": "conda_pytorch_p36"
  },
  "language_info": {
   "codemirror_mode": {
    "name": "ipython",
    "version": 3
   },
   "file_extension": ".py",
   "mimetype": "text/x-python",
   "name": "python",
   "nbconvert_exporter": "python",
   "pygments_lexer": "ipython3",
   "version": "3.6.13"
  }
 },
 "nbformat": 4,
 "nbformat_minor": 5
}
